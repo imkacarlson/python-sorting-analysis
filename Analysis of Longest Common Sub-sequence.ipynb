{
 "cells": [
  {
   "cell_type": "markdown",
   "metadata": {},
   "source": [
    "## Recursive Algorithm"
   ]
  },
  {
   "cell_type": "markdown",
   "metadata": {},
   "source": [
    "Check every subsequence of `X[1..m]` to see if it is also a subsequence of `Y[1..n]`"
   ]
  },
  {
   "cell_type": "code",
   "execution_count": 140,
   "metadata": {
    "collapsed": true
   },
   "outputs": [],
   "source": [
    "def lcs(x, y, i, j):\n",
    "    if(i < 0 or j < 0):\n",
    "        return \"\"\n",
    "    \n",
    "    if(x[i] == y[j]):\n",
    "        return lcs(x, y, i-1, j-1) + x[i]\n",
    "    else:\n",
    "        s_1 = lcs(x, y, i-1, j)\n",
    "        s_2 = lcs(x, y, i, j-1)\n",
    "        \n",
    "        if(len(s_1) > len(s_2)):\n",
    "            return s_1\n",
    "        else:\n",
    "            return s_2"
   ]
  },
  {
   "cell_type": "markdown",
   "metadata": {},
   "source": [
    "<a href = \"http://www.bioinformatics.org/sms2/sample_dna.html\">DNA Sequence</a>"
   ]
  },
  {
   "cell_type": "code",
   "execution_count": 141,
   "metadata": {
    "collapsed": true
   },
   "outputs": [],
   "source": [
    "a = \"aataaaaataaaaaaaaataaaaaaaaaaaaaaaaaaaaaaaaaaaataaaaaaaaaaaa\"\n",
    "b = \"taaataaaaaaaaaaaaaaaaaaaaaattaaataaataaa\""
   ]
  },
  {
   "cell_type": "code",
   "execution_count": 142,
   "metadata": {},
   "outputs": [
    {
     "data": {
      "text/plain": [
       "'taaataaaaaaaaaaaaaaaaaaaaaataaaaaaaaa'"
      ]
     },
     "execution_count": 142,
     "metadata": {},
     "output_type": "execute_result"
    }
   ],
   "source": [
    "lcs(a, b, len(a)-1, len(b) - 1)"
   ]
  },
  {
   "cell_type": "code",
   "execution_count": 143,
   "metadata": {
    "collapsed": true
   },
   "outputs": [],
   "source": [
    "a = \"ABCDGH\"\n",
    "b = \"AEDFHR\""
   ]
  },
  {
   "cell_type": "code",
   "execution_count": 144,
   "metadata": {},
   "outputs": [
    {
     "data": {
      "text/plain": [
       "'ADH'"
      ]
     },
     "execution_count": 144,
     "metadata": {},
     "output_type": "execute_result"
    }
   ],
   "source": [
    "lcs(a, b, len(a)-1, len(b) - 1)"
   ]
  }
 ],
 "metadata": {
  "kernelspec": {
   "display_name": "Python 3",
   "language": "python",
   "name": "python3"
  },
  "language_info": {
   "codemirror_mode": {
    "name": "ipython",
    "version": 3
   },
   "file_extension": ".py",
   "mimetype": "text/x-python",
   "name": "python",
   "nbconvert_exporter": "python",
   "pygments_lexer": "ipython3",
   "version": "3.6.2"
  }
 },
 "nbformat": 4,
 "nbformat_minor": 2
}
