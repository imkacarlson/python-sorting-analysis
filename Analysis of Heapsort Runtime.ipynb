{
 "cells": [
  {
   "cell_type": "markdown",
   "metadata": {},
   "source": [
    "### Keith Carlson\n",
    "### March 6, 2019"
   ]
  },
  {
   "cell_type": "markdown",
   "metadata": {},
   "source": [
    "Implementing heapsort and testing is runtime for different sized inputs. Psuedo code taken from:\n",
    "\n",
    "Cormen, Thomas H., et al. Introduction to Algorithms. 3rd ed., MIT Press, 2009."
   ]
  },
  {
   "cell_type": "markdown",
   "metadata": {},
   "source": [
    "Retrieving indices such that our array has a tree structure."
   ]
  },
  {
   "cell_type": "code",
   "execution_count": 8,
   "metadata": {
    "collapsed": true
   },
   "outputs": [],
   "source": [
    "# Add 1's because index starts at 0 here unlike at 1 in the book\n",
    "\n",
    "def parent(i):\n",
    "    return int(i/2) - 1\n",
    "\n",
    "def left(i):\n",
    "    return 2*i - 1\n",
    "\n",
    "def right(i):\n",
    "    return 2*i+1 - 1"
   ]
  },
  {
   "cell_type": "markdown",
   "metadata": {},
   "source": [
    "    import pdb; pdb.set_trace()"
   ]
  },
  {
   "cell_type": "code",
   "execution_count": 46,
   "metadata": {},
   "outputs": [],
   "source": [
    "def max_heapify(A, i, heap_size):  \n",
    "    l = left(i)\n",
    "    r = right(i)\n",
    "    \n",
    "    #print(\"heap_size = %d\" % heap_size)\n",
    "    \n",
    "    if(l <= heap_size and A[l] > A[i]):\n",
    "        largest = l\n",
    "    else:\n",
    "        largest = i\n",
    "        \n",
    "    if(not (r >= len(A))):\n",
    "        if (r<= heap_size and A[r] > A[largest]):\n",
    "            largest = r\n",
    "        \n",
    "    if(not (largest == i)):\n",
    "        temp = A[i]\n",
    "        A[i] = A[largest]\n",
    "        A[largest] = temp \n",
    "        max_heapify(A, largest, heap_size)"
   ]
  },
  {
   "cell_type": "code",
   "execution_count": 27,
   "metadata": {
    "collapsed": true
   },
   "outputs": [],
   "source": [
    "def build_max_heap(A):\n",
    "    heap_size = len(A)\n",
    "    \n",
    "    for i in range(int(len(A)/2)-1, -1, -1):\n",
    "        #print(i)\n",
    "        max_heapify(A, i, heap_size)"
   ]
  },
  {
   "cell_type": "code",
   "execution_count": 28,
   "metadata": {
    "collapsed": true
   },
   "outputs": [],
   "source": [
    "def heapsort(A):\n",
    "    build_max_heap(A)\n",
    "    \n",
    "    for i in range(len(A)-1, 0, -1):\n",
    "        temp = A[1]\n",
    "        A[1] = A[i]\n",
    "        A[i] = temp\n",
    "        \n",
    "        heap_size = heap_size - 1\n",
    "        max_heapify(A, 1)\n",
    "        "
   ]
  },
  {
   "cell_type": "code",
   "execution_count": 47,
   "metadata": {},
   "outputs": [
    {
     "name": "stdout",
     "output_type": "stream",
     "text": [
      "> <ipython-input-46-0d4f80383cff>(3)max_heapify()\n",
      "-> l = left(i)\n",
      "(Pdb) n\n",
      "> <ipython-input-46-0d4f80383cff>(4)max_heapify()\n",
      "-> r = right(i)\n",
      "(Pdb) p l\n",
      "3\n",
      "(Pdb) q\n",
      "Exiting Debugger.\n"
     ]
    }
   ],
   "source": [
    "A = [2,1,5,6,8,19]\n",
    "build_max_heap(A)"
   ]
  },
  {
   "cell_type": "code",
   "execution_count": 24,
   "metadata": {},
   "outputs": [
    {
     "data": {
      "text/plain": [
       "[2, 8, 6, 19, 5, 1]"
      ]
     },
     "execution_count": 24,
     "metadata": {},
     "output_type": "execute_result"
    }
   ],
   "source": [
    "A"
   ]
  }
 ],
 "metadata": {
  "kernelspec": {
   "display_name": "Python 3",
   "language": "python",
   "name": "python3"
  },
  "language_info": {
   "codemirror_mode": {
    "name": "ipython",
    "version": 3
   },
   "file_extension": ".py",
   "mimetype": "text/x-python",
   "name": "python",
   "nbconvert_exporter": "python",
   "pygments_lexer": "ipython3",
   "version": "3.6.2"
  }
 },
 "nbformat": 4,
 "nbformat_minor": 2
}
