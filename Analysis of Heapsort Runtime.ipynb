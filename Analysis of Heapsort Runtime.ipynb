{
 "cells": [
  {
   "cell_type": "markdown",
   "metadata": {},
   "source": [
    "### Keith Carlson\n",
    "### March 6, 2019"
   ]
  },
  {
   "cell_type": "markdown",
   "metadata": {},
   "source": [
    "Implementing heapsort and testing is runtime for different sized inputs (100, 1,000, 10,000, 100,000). Psuedo code taken from:\n",
    "\n",
    "Cormen, Thomas H., et al. Introduction to Algorithms. 3rd ed., MIT Press, 2009. (Pgs. 152 - 160)"
   ]
  },
  {
   "cell_type": "markdown",
   "metadata": {},
   "source": [
    "Retrieving indices such that our array has a tree structure."
   ]
  },
  {
   "cell_type": "code",
   "execution_count": 1,
   "metadata": {
    "collapsed": true
   },
   "outputs": [],
   "source": [
    "# Add 1's because index starts at 0 here unlike at 1 in the book\n",
    "\n",
    "def parent(i):\n",
    "    i = i + 1\n",
    "    return int(i/2) - 1\n",
    "\n",
    "def left(i):\n",
    "    i = i + 1\n",
    "    return 2*i - 1\n",
    "\n",
    "def right(i):\n",
    "    i = i + 1\n",
    "    return 2*i+1 - 1"
   ]
  },
  {
   "cell_type": "code",
   "execution_count": 2,
   "metadata": {
    "collapsed": true
   },
   "outputs": [],
   "source": [
    "def max_heapify(A, i, heap_size):\n",
    "    l = left(i)\n",
    "    r = right(i)\n",
    "    \n",
    "    if(l <= (heap_size - 1) and A[l] > A[i]):\n",
    "        largest = l\n",
    "    else:\n",
    "        largest = i\n",
    "        \n",
    "    if (r<= (heap_size - 1) and A[r] > A[largest]):\n",
    "        largest = r\n",
    "        \n",
    "    if(not (largest == i)):\n",
    "        temp = A[i]\n",
    "        A[i] = A[largest]\n",
    "        A[largest] = temp \n",
    "        max_heapify(A, largest, heap_size)"
   ]
  },
  {
   "cell_type": "code",
   "execution_count": 3,
   "metadata": {
    "collapsed": true
   },
   "outputs": [],
   "source": [
    "def build_max_heap(A):\n",
    "    heap_size = len(A)\n",
    "    \n",
    "    for i in range(int(len(A)/2)-1, -1, -1):\n",
    "        max_heapify(A, i, heap_size)"
   ]
  },
  {
   "cell_type": "code",
   "execution_count": 4,
   "metadata": {
    "collapsed": true
   },
   "outputs": [],
   "source": [
    "def heapsort(A):\n",
    "    build_max_heap(A)\n",
    "    \n",
    "    heap_size = len(A)\n",
    "    \n",
    "    for i in range(len(A)-1, 0, -1):\n",
    "        temp = A[0]\n",
    "        A[0] = A[i]\n",
    "        A[i] = temp\n",
    "        \n",
    "        heap_size = heap_size - 1\n",
    "        max_heapify(A, 0, heap_size)\n",
    "        "
   ]
  },
  {
   "cell_type": "markdown",
   "metadata": {},
   "source": [
    "<a href = \"https://stackoverflow.com/questions/16655089/python-random-numbers-into-a-list\">Python: Random numbers into a list</a>"
   ]
  },
  {
   "cell_type": "code",
   "execution_count": 5,
   "metadata": {},
   "outputs": [
    {
     "name": "stdout",
     "output_type": "stream",
     "text": [
      "Before sorting:\n",
      "[12, 56, 83, 88, 80, 1, 89, 71, 78, 36, 20, 19, 46, 62, 6, 59, 2, 55, 51, 77, 61, 33, 60, 100, 64, 70, 24, 5, 38, 54, 85, 27, 26, 14, 25, 21, 0, 34, 8, 84, 29, 65, 57, 98, 82, 95, 40, 74, 66, 47, 16, 96, 52, 7, 76, 22, 37, 28, 75, 58, 10, 93, 43, 86, 67, 39, 91, 48, 97, 81, 3, 30, 31, 99, 35, 32, 79, 92, 9, 45, 4, 17, 68, 13, 90, 94, 50, 87, 41, 11, 73, 49, 72, 23, 53, 44, 63, 18, 15, 42, 69]\n",
      "\n",
      "After heapsorting:\n",
      "[0, 1, 2, 3, 4, 5, 6, 7, 8, 9, 10, 11, 12, 13, 14, 15, 16, 17, 18, 19, 20, 21, 22, 23, 24, 25, 26, 27, 28, 29, 30, 31, 32, 33, 34, 35, 36, 37, 38, 39, 40, 41, 42, 43, 44, 45, 46, 47, 48, 49, 50, 51, 52, 53, 54, 55, 56, 57, 58, 59, 60, 61, 62, 63, 64, 65, 66, 67, 68, 69, 70, 71, 72, 73, 74, 75, 76, 77, 78, 79, 80, 81, 82, 83, 84, 85, 86, 87, 88, 89, 90, 91, 92, 93, 94, 95, 96, 97, 98, 99, 100]\n"
     ]
    }
   ],
   "source": [
    "import random\n",
    "\n",
    "randoms = random.sample(range(101), 101)\n",
    "\n",
    "print(\"Before sorting:\\n%s\\n\" % randoms)\n",
    "\n",
    "heapsort(randoms)\n",
    "\n",
    "print(\"After heapsorting:\\n%s\" % randoms)"
   ]
  },
  {
   "cell_type": "code",
   "execution_count": 6,
   "metadata": {
    "collapsed": true
   },
   "outputs": [],
   "source": [
    "import datetime\n",
    "\n",
    "def time_to_heapsort_n_random(n):\n",
    "    randoms = random.sample(range(n), n)\n",
    "    before = datetime.datetime.now()\n",
    "    heapsort(randoms)\n",
    "    after = datetime.datetime.now()\n",
    "    \n",
    "    #time_taken = after - before\n",
    "    #return (after - before)\n",
    "    return (after - before).microseconds / (1*10**6)"
   ]
  },
  {
   "cell_type": "code",
   "execution_count": 7,
   "metadata": {},
   "outputs": [
    {
     "name": "stdout",
     "output_type": "stream",
     "text": [
      "Testing runtime of Heapsort...\n",
      "\n",
      "\tInput Size n = 100:\t 0.0039990000 seconds\n",
      "\n",
      "\tInput Size n = 1,000:\t 0.0119930000 seconds\n",
      "\n",
      "\tInput Size n = 10,000:\t 0.1359910000 seconds\n",
      "\n",
      "\tInput Size n = 100,000:\t 0.5901720000 seconds\n",
      "\n"
     ]
    }
   ],
   "source": [
    "print(\"\"\"Testing runtime of Heapsort...\\n\n",
    "\\tInput Size n = 100:\\t %.10f seconds\\n\n",
    "\\tInput Size n = 1,000:\\t %.10f seconds\\n\n",
    "\\tInput Size n = 10,000:\\t %.10f seconds\\n\n",
    "\\tInput Size n = 100,000:\\t %.10f seconds\\n\"\"\" % (time_to_heapsort_n_random(100), time_to_heapsort_n_random(1000), \n",
    "      time_to_heapsort_n_random(10000), time_to_heapsort_n_random(100000)))"
   ]
  }
 ],
 "metadata": {
  "kernelspec": {
   "display_name": "Python 3",
   "language": "python",
   "name": "python3"
  },
  "language_info": {
   "codemirror_mode": {
    "name": "ipython",
    "version": 3
   },
   "file_extension": ".py",
   "mimetype": "text/x-python",
   "name": "python",
   "nbconvert_exporter": "python",
   "pygments_lexer": "ipython3",
   "version": "3.6.2"
  }
 },
 "nbformat": 4,
 "nbformat_minor": 2
}
