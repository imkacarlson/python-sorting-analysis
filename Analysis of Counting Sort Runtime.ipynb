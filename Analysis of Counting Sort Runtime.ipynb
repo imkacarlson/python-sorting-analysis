{
 "cells": [
  {
   "cell_type": "markdown",
   "metadata": {},
   "source": [
    "## Keith Carlson\n",
    "## March 19, 2019"
   ]
  },
  {
   "cell_type": "markdown",
   "metadata": {},
   "source": [
    "Implementing Counting Sort and testing is runtime for different sized inputs (100, 1,000, 10,000, 100,000). Psuedo code taken from:\n",
    "\n",
    "Cormen, Thomas H., et al. Introduction to Algorithms. 3rd ed., MIT Press, 2009. (Pg. 195)"
   ]
  },
  {
   "cell_type": "code",
   "execution_count": 98,
   "metadata": {
    "collapsed": true
   },
   "outputs": [],
   "source": [
    "def counting_sort(A, k):\n",
    "    C = [0] * (k+1)\n",
    "    for j in range(0, (len(A))):\n",
    "        C[A[j]] = C[A[j]] + 1\n",
    "                \n",
    "    for i in range (1, (k+1)):\n",
    "        C[i] = C[i] + C[i-1]\n",
    "    \n",
    "    B = [0] * len(A)\n",
    "    \n",
    "    for j in range(len(A)-1, -1, -1):\n",
    "        B[C[A[j]] - 1] = A[j]\n",
    "        C[A[j]] = C[A[j]] - 1\n",
    "    \n",
    "    return B"
   ]
  },
  {
   "cell_type": "code",
   "execution_count": 100,
   "metadata": {},
   "outputs": [
    {
     "name": "stdout",
     "output_type": "stream",
     "text": [
      "Before sorting:\n",
      "[20, 91, 97, 64, 21, 40, 31, 4, 23, 67, 39, 37, 90, 63, 82, 16, 25, 3, 74, 76, 79, 53, 93, 18, 11, 49, 58, 1, 98, 55, 85, 44, 22, 83, 73, 81, 84, 69, 32, 56, 46, 96, 95, 13, 47, 87, 33, 62, 89, 10, 61, 80, 17, 42, 27, 12, 51, 59, 30, 77, 35, 8, 6, 92, 34, 26, 28, 57, 94, 75, 50, 29, 70, 66, 45, 41, 43, 100, 48, 86, 36, 0, 7, 88, 71, 78, 19, 99, 14, 68, 2, 24, 65, 9, 15, 54, 38, 52, 72, 60, 5]\n",
      "\n",
      "After running counting sort:\n",
      "[0, 1, 2, 3, 4, 5, 6, 7, 8, 9, 10, 11, 12, 13, 14, 15, 16, 17, 18, 19, 20, 21, 22, 23, 24, 25, 26, 27, 28, 29, 30, 31, 32, 33, 34, 35, 36, 37, 38, 39, 40, 41, 42, 43, 44, 45, 46, 47, 48, 49, 50, 51, 52, 53, 54, 55, 56, 57, 58, 59, 60, 61, 62, 63, 64, 65, 66, 67, 68, 69, 70, 71, 72, 73, 74, 75, 76, 77, 78, 79, 80, 81, 82, 83, 84, 85, 86, 87, 88, 89, 90, 91, 92, 93, 94, 95, 96, 97, 98, 99, 100]\n"
     ]
    }
   ],
   "source": [
    "import random\n",
    "\n",
    "randoms = random.sample(range(101), 101)\n",
    "\n",
    "print(\"Before sorting:\\n%s\\n\" % randoms)\n",
    "\n",
    "print(\"After running counting sort:\\n%s\" % counting_sort(randoms, max(randoms)))"
   ]
  },
  {
   "cell_type": "code",
   "execution_count": 103,
   "metadata": {
    "collapsed": true
   },
   "outputs": [],
   "source": [
    "import datetime\n",
    "\n",
    "def time_to_counting_sort_n_random(n):\n",
    "    randoms = random.sample(range(n), n)\n",
    "    before = datetime.datetime.now()\n",
    "    counting_sort(randoms, max(randoms))\n",
    "    after = datetime.datetime.now()\n",
    "    \n",
    "    #time_taken = after - before\n",
    "    #return (after - before)\n",
    "    return (after - before).microseconds / (1*10**6)"
   ]
  },
  {
   "cell_type": "code",
   "execution_count": 105,
   "metadata": {},
   "outputs": [
    {
     "name": "stdout",
     "output_type": "stream",
     "text": [
      "Testing runtime of Counting Sort...\n",
      "\n",
      "\tInput Size n = 100:\t 0.0000000000 seconds\n",
      "\n",
      "\tInput Size n = 1,000:\t 0.0020020000 seconds\n",
      "\n",
      "\tInput Size n = 10,000:\t 0.0249850000 seconds\n",
      "\n",
      "\tInput Size n = 100,000:\t 0.1269100000 seconds\n",
      "\n"
     ]
    }
   ],
   "source": [
    "print(\"\"\"Testing runtime of Counting Sort...\\n\n",
    "\\tInput Size n = 100:\\t %.10f seconds\\n\n",
    "\\tInput Size n = 1,000:\\t %.10f seconds\\n\n",
    "\\tInput Size n = 10,000:\\t %.10f seconds\\n\n",
    "\\tInput Size n = 100,000:\\t %.10f seconds\\n\"\"\" % (time_to_counting_sort_n_random(100), time_to_counting_sort_n_random(1000), \n",
    "      time_to_counting_sort_n_random(10000), time_to_counting_sort_n_random(100000)))"
   ]
  }
 ],
 "metadata": {
  "kernelspec": {
   "display_name": "Python 3",
   "language": "python",
   "name": "python3"
  },
  "language_info": {
   "codemirror_mode": {
    "name": "ipython",
    "version": 3
   },
   "file_extension": ".py",
   "mimetype": "text/x-python",
   "name": "python",
   "nbconvert_exporter": "python",
   "pygments_lexer": "ipython3",
   "version": "3.6.2"
  }
 },
 "nbformat": 4,
 "nbformat_minor": 2
}
