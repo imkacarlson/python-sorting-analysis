{
 "cells": [
  {
   "cell_type": "markdown",
   "metadata": {},
   "source": [
    "## Recursive Algorithm"
   ]
  },
  {
   "cell_type": "markdown",
   "metadata": {},
   "source": [
    "Check every subsequence of `X[1..m]` to see if it is also a subsequence of `Y[1..n]`"
   ]
  },
  {
   "cell_type": "code",
   "execution_count": 101,
   "metadata": {
    "collapsed": true
   },
   "outputs": [],
   "source": [
    "def lcs_recursive(x, y, i, j):\n",
    "    if(i < 0 or j < 0):\n",
    "        return \"\"\n",
    "    \n",
    "    if(x[i] == y[j]):\n",
    "        return lcs(x, y, i-1, j-1) + x[i]\n",
    "    else:\n",
    "        s_1 = lcs(x, y, i-1, j)\n",
    "        s_2 = lcs(x, y, i, j-1)\n",
    "        \n",
    "        if(len(s_1) > len(s_2)):\n",
    "            return s_1\n",
    "        else:\n",
    "            return s_2"
   ]
  },
  {
   "cell_type": "markdown",
   "metadata": {},
   "source": [
    "## Dynamic Programming Approach"
   ]
  },
  {
   "cell_type": "markdown",
   "metadata": {},
   "source": [
    "Pseudo-code taken from: Cormen, Thomas H., et al. Introduction to Algorithms. 3rd ed., MIT Press, 2009. (Pgs. 394 - 395)"
   ]
  },
  {
   "cell_type": "code",
   "execution_count": 102,
   "metadata": {},
   "outputs": [],
   "source": [
    "def lcs_length(x, y):\n",
    "    m = len(x)\n",
    "    n = len(y)\n",
    "    \n",
    "    C = [[0 for x in range(n+1)] for y in range(m+1)] \n",
    "    B = [[0 for x in range(n)] for y in range(m)] \n",
    "    \n",
    "    for i in range(1, m+1):\n",
    "        for j in range(1, n+1):\n",
    "            if(x[i-1] == y[j-1]):\n",
    "                C[i][j] = C[i-1][j-1] + 1\n",
    "                B[i-1][j-1] = \"top-left\"\n",
    "            elif(C[i-1][j] >= C[i][j-1]):\n",
    "                C[i][j] = C[i-1][j]\n",
    "                B[i-1][j-1] = \"up\"\n",
    "            else:\n",
    "                C[i][j] = C[i][j-1]\n",
    "                B[i-1][j-1] = \"left\"\n",
    "                \n",
    "    return (C, B)"
   ]
  },
  {
   "cell_type": "code",
   "execution_count": 103,
   "metadata": {},
   "outputs": [],
   "source": [
    "tables = lcs_length(\"ABCBDAB\", \"BDCABA\")"
   ]
  },
  {
   "cell_type": "code",
   "execution_count": 104,
   "metadata": {},
   "outputs": [
    {
     "data": {
      "text/plain": [
       "[[0, 0, 0, 0, 0, 0, 0],\n",
       " [0, 0, 0, 0, 1, 1, 1],\n",
       " [0, 1, 1, 1, 1, 2, 2],\n",
       " [0, 1, 1, 2, 2, 2, 2],\n",
       " [0, 1, 1, 2, 2, 3, 3],\n",
       " [0, 1, 2, 2, 2, 3, 3],\n",
       " [0, 1, 2, 2, 3, 3, 4],\n",
       " [0, 1, 2, 2, 3, 4, 4]]"
      ]
     },
     "execution_count": 104,
     "metadata": {},
     "output_type": "execute_result"
    }
   ],
   "source": [
    "tables[0]"
   ]
  },
  {
   "cell_type": "code",
   "execution_count": 105,
   "metadata": {},
   "outputs": [
    {
     "data": {
      "text/plain": [
       "[['up', 'up', 'up', 'top-left', 'left', 'top-left'],\n",
       " ['top-left', 'left', 'left', 'up', 'top-left', 'left'],\n",
       " ['up', 'up', 'top-left', 'left', 'up', 'up'],\n",
       " ['top-left', 'up', 'up', 'up', 'top-left', 'left'],\n",
       " ['up', 'top-left', 'up', 'up', 'up', 'up'],\n",
       " ['up', 'up', 'up', 'top-left', 'up', 'top-left'],\n",
       " ['top-left', 'up', 'up', 'up', 'top-left', 'up']]"
      ]
     },
     "execution_count": 105,
     "metadata": {},
     "output_type": "execute_result"
    }
   ],
   "source": [
    "tables[1]"
   ]
  },
  {
   "cell_type": "markdown",
   "metadata": {},
   "source": [
    "<a href = \"http://www.bioinformatics.org/sms2/sample_dna.html\">DNA Sequence</a>"
   ]
  },
  {
   "cell_type": "code",
   "execution_count": 106,
   "metadata": {
    "collapsed": true
   },
   "outputs": [],
   "source": [
    "a = \"aataaaaataaaaaaaaataaaaaaaaaaaaaaaaaaaaaaaaaaaataaaaaaaaaaaa\"\n",
    "b = \"taaataaaaaaaaaaaaaaaaaaaaaattaaataaataaa\""
   ]
  },
  {
   "cell_type": "code",
   "execution_count": 107,
   "metadata": {},
   "outputs": [
    {
     "data": {
      "text/plain": [
       "'taaataaaaaaaaaaaaaaaaaaaaaataaaaaaaaa'"
      ]
     },
     "execution_count": 107,
     "metadata": {},
     "output_type": "execute_result"
    }
   ],
   "source": [
    "lcs_recursive(a, b, len(a)-1, len(b) - 1)"
   ]
  },
  {
   "cell_type": "code",
   "execution_count": 108,
   "metadata": {
    "collapsed": true
   },
   "outputs": [],
   "source": [
    "a = \"ABCDGH\"\n",
    "b = \"AEDFHR\""
   ]
  },
  {
   "cell_type": "code",
   "execution_count": 109,
   "metadata": {},
   "outputs": [
    {
     "data": {
      "text/plain": [
       "'ADH'"
      ]
     },
     "execution_count": 109,
     "metadata": {},
     "output_type": "execute_result"
    }
   ],
   "source": [
    "lcs_recursive(a, b, len(a)-1, len(b) - 1)"
   ]
  },
  {
   "cell_type": "code",
   "execution_count": 110,
   "metadata": {
    "collapsed": true
   },
   "outputs": [],
   "source": [
    "def lcs_palindrome(s):\n",
    "    return lcs(s, s[::-1], len(s)-1, len(s) - 1)"
   ]
  },
  {
   "cell_type": "code",
   "execution_count": 111,
   "metadata": {},
   "outputs": [
    {
     "data": {
      "text/plain": [
       "'hannah'"
      ]
     },
     "execution_count": 111,
     "metadata": {},
     "output_type": "execute_result"
    }
   ],
   "source": [
    "lcs_palindrome(\"hannah\")"
   ]
  },
  {
   "cell_type": "code",
   "execution_count": 112,
   "metadata": {},
   "outputs": [
    {
     "data": {
      "text/plain": [
       "'carac'"
      ]
     },
     "execution_count": 112,
     "metadata": {},
     "output_type": "execute_result"
    }
   ],
   "source": [
    "lcs_palindrome(\"character\")"
   ]
  }
 ],
 "metadata": {
  "kernelspec": {
   "display_name": "Python 3",
   "language": "python",
   "name": "python3"
  },
  "language_info": {
   "codemirror_mode": {
    "name": "ipython",
    "version": 3
   },
   "file_extension": ".py",
   "mimetype": "text/x-python",
   "name": "python",
   "nbconvert_exporter": "python",
   "pygments_lexer": "ipython3",
   "version": "3.6.2"
  }
 },
 "nbformat": 4,
 "nbformat_minor": 2
}
