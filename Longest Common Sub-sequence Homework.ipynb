{
 "cells": [
  {
   "cell_type": "markdown",
   "metadata": {},
   "source": [
    "## Recursive Algorithm"
   ]
  },
  {
   "cell_type": "markdown",
   "metadata": {},
   "source": [
    "Check every subsequence of `X[1..m]` to see if it is also a subsequence of `Y[1..n]`"
   ]
  },
  {
   "cell_type": "code",
   "execution_count": 16,
   "metadata": {
    "collapsed": true
   },
   "outputs": [],
   "source": [
    "def lcs(x, y, i, j):\n",
    "    if(i < 0 or j < 0):\n",
    "        return \"\"\n",
    "    \n",
    "    if(x[i] == y[j]):\n",
    "        return lcs(x, y, i-1, j-1) + x[i]\n",
    "    else:\n",
    "        s_1 = lcs(x, y, i-1, j)\n",
    "        s_2 = lcs(x, y, i, j-1)\n",
    "        \n",
    "        if(len(s_1) > len(s_2)):\n",
    "            return s_1\n",
    "        else:\n",
    "            return s_2"
   ]
  },
  {
   "cell_type": "markdown",
   "metadata": {},
   "source": [
    "<a href = \"http://www.bioinformatics.org/sms2/sample_dna.html\">DNA Sequence</a>"
   ]
  },
  {
   "cell_type": "code",
   "execution_count": 141,
   "metadata": {
    "collapsed": true
   },
   "outputs": [],
   "source": [
    "a = \"aataaaaataaaaaaaaataaaaaaaaaaaaaaaaaaaaaaaaaaaataaaaaaaaaaaa\"\n",
    "b = \"taaataaaaaaaaaaaaaaaaaaaaaattaaataaataaa\""
   ]
  },
  {
   "cell_type": "code",
   "execution_count": 142,
   "metadata": {},
   "outputs": [
    {
     "data": {
      "text/plain": [
       "'taaataaaaaaaaaaaaaaaaaaaaaataaaaaaaaa'"
      ]
     },
     "execution_count": 142,
     "metadata": {},
     "output_type": "execute_result"
    }
   ],
   "source": [
    "lcs(a, b, len(a)-1, len(b) - 1)"
   ]
  },
  {
   "cell_type": "code",
   "execution_count": 143,
   "metadata": {
    "collapsed": true
   },
   "outputs": [],
   "source": [
    "a = \"ABCDGH\"\n",
    "b = \"AEDFHR\""
   ]
  },
  {
   "cell_type": "code",
   "execution_count": 144,
   "metadata": {},
   "outputs": [
    {
     "data": {
      "text/plain": [
       "'ADH'"
      ]
     },
     "execution_count": 144,
     "metadata": {},
     "output_type": "execute_result"
    }
   ],
   "source": [
    "lcs(a, b, len(a)-1, len(b) - 1)"
   ]
  },
  {
   "cell_type": "code",
   "execution_count": 132,
   "metadata": {},
   "outputs": [],
   "source": [
    "def lcs_palindrome(s):\n",
    "    half = int(len(s)/2)\n",
    "    \n",
    "    mid_char = \"\"\n",
    "    \n",
    "    lcs_str_1 = lcs(s[:half], s[half:][::-1], len(s[:half]) - 1, len(s[half:]) - 1)\n",
    "    lcs_str_2 = lcs(s[:half-1], s[half-1:][::-1], len(s[:half-1]) - 1, len(s[half-1:]) - 1)\n",
    "    \n",
    "    half_lcs = (s[:half], lcs_str_1) if (len(lcs_str_1) > len(lcs_str_2)) else (s[:half-1], lcs_str_2)\n",
    "        \n",
    "    temp_original = half_lcs[0]\n",
    "    \n",
    "    temp = temp_original\n",
    "    \n",
    "    for c in temp_original:\n",
    "        temp = temp.replace(c,\"\", 1)\n",
    "        \n",
    "    if temp:\n",
    "        mid_char = temp[-1]\n",
    "    \n",
    "    return \"{}{}{}\".format(half_lcs[1], mid_char, half_lcs[1][::-1])\n",
    "    "
   ]
  },
  {
   "cell_type": "code",
   "execution_count": 133,
   "metadata": {},
   "outputs": [
    {
     "data": {
      "text/plain": [
       "'hannah'"
      ]
     },
     "execution_count": 133,
     "metadata": {},
     "output_type": "execute_result"
    }
   ],
   "source": [
    "lcs_palindrome(\"hannah\")"
   ]
  },
  {
   "cell_type": "code",
   "execution_count": 134,
   "metadata": {},
   "outputs": [
    {
     "data": {
      "text/plain": [
       "'hannah'"
      ]
     },
     "execution_count": 134,
     "metadata": {},
     "output_type": "execute_result"
    }
   ],
   "source": [
    "lcs_palindrome(\"hannnah\")"
   ]
  },
  {
   "cell_type": "code",
   "execution_count": 146,
   "metadata": {
    "collapsed": true
   },
   "outputs": [],
   "source": [
    "c = \"civic\""
   ]
  },
  {
   "cell_type": "code",
   "execution_count": 147,
   "metadata": {},
   "outputs": [
    {
     "data": {
      "text/plain": [
       "'civic'"
      ]
     },
     "execution_count": 147,
     "metadata": {},
     "output_type": "execute_result"
    }
   ],
   "source": [
    "lcs(c, c[::-1], len(c)-1, len(c) - 1)"
   ]
  }
 ],
 "metadata": {
  "kernelspec": {
   "display_name": "Python 3",
   "language": "python",
   "name": "python3"
  },
  "language_info": {
   "codemirror_mode": {
    "name": "ipython",
    "version": 3
   },
   "file_extension": ".py",
   "mimetype": "text/x-python",
   "name": "python",
   "nbconvert_exporter": "python",
   "pygments_lexer": "ipython3",
   "version": "3.6.2"
  }
 },
 "nbformat": 4,
 "nbformat_minor": 2
}
