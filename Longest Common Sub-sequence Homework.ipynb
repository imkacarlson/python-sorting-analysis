{
 "cells": [
  {
   "cell_type": "markdown",
   "metadata": {},
   "source": [
    "## Recursive Algorithm"
   ]
  },
  {
   "cell_type": "markdown",
   "metadata": {},
   "source": [
    "Check every subsequence of `X[1..m]` to see if it is also a subsequence of `Y[1..n]`"
   ]
  },
  {
   "cell_type": "code",
   "execution_count": 1,
   "metadata": {
    "collapsed": true
   },
   "outputs": [],
   "source": [
    "def lcs_recursive(x, y, i, j):\n",
    "    if(i < 0 or j < 0):\n",
    "        return \"\"\n",
    "    \n",
    "    if(x[i] == y[j]):\n",
    "        return lcs_recursive(x, y, i-1, j-1) + x[i]\n",
    "    else:\n",
    "        s_1 = lcs_recursive(x, y, i-1, j)\n",
    "        s_2 = lcs_recursive(x, y, i, j-1)\n",
    "        \n",
    "        if(len(s_1) > len(s_2)):\n",
    "            return s_1\n",
    "        else:\n",
    "            return s_2"
   ]
  },
  {
   "cell_type": "markdown",
   "metadata": {},
   "source": [
    "## Dynamic Programming Approach"
   ]
  },
  {
   "cell_type": "markdown",
   "metadata": {},
   "source": [
    "Pseudo-code taken from: Cormen, Thomas H., et al. Introduction to Algorithms. 3rd ed., MIT Press, 2009. (Pgs. 394 - 395)"
   ]
  },
  {
   "cell_type": "code",
   "execution_count": 2,
   "metadata": {
    "collapsed": true
   },
   "outputs": [],
   "source": [
    "def lcs_length(x, y):\n",
    "    m = len(x)\n",
    "    n = len(y)\n",
    "    \n",
    "    C = [[0 for x in range(n+1)] for y in range(m+1)] \n",
    "    B = [[0 for x in range(n)] for y in range(m)] \n",
    "    \n",
    "    for i in range(1, m+1):\n",
    "        for j in range(1, n+1):\n",
    "            if(x[i-1] == y[j-1]):\n",
    "                C[i][j] = C[i-1][j-1] + 1\n",
    "                B[i-1][j-1] = \"top-left\"\n",
    "            elif(C[i-1][j] >= C[i][j-1]):\n",
    "                C[i][j] = C[i-1][j]\n",
    "                B[i-1][j-1] = \"up\"\n",
    "            else:\n",
    "                C[i][j] = C[i][j-1]\n",
    "                B[i-1][j-1] = \"left\"\n",
    "                \n",
    "    return (C, B)"
   ]
  },
  {
   "cell_type": "markdown",
   "metadata": {},
   "source": [
    "#### `print_lcs` as implemented in the book (Pg. 395)"
   ]
  },
  {
   "cell_type": "code",
   "execution_count": 4,
   "metadata": {
    "collapsed": true
   },
   "outputs": [],
   "source": [
    "def print_lcs(B, x, i, j, pnt = True):\n",
    "    if(i == -1 or j == -1):\n",
    "        return\n",
    "    if(B[i][j] == \"top-left\"):\n",
    "        print_lcs(B, x, i-1, j-1, pnt)\n",
    "        if pnt:\n",
    "            print(x[i], end=\"\")\n",
    "    elif(B[i][j] == \"up\"):\n",
    "        print_lcs(B, x, i-1, j, pnt)\n",
    "    else:\n",
    "        print_lcs(B, x, i, j-1, pnt)"
   ]
  },
  {
   "cell_type": "markdown",
   "metadata": {},
   "source": [
    "#### Since I was getting a maximum recursion error here is my iterative version"
   ]
  },
  {
   "cell_type": "code",
   "execution_count": 5,
   "metadata": {
    "collapsed": true
   },
   "outputs": [],
   "source": [
    "def print_lcs(B, x, i, j):\n",
    "    result = \"\"\n",
    "    while(i >= 0 and j >= 0):\n",
    "        if(B[i][j] == \"top-left\"):\n",
    "            result = result + x[i]\n",
    "            i = i - 1\n",
    "            j = j - 1\n",
    "        elif(B[i][j] == \"up\"):\n",
    "            i = i - 1\n",
    "        else:\n",
    "            j = j - 1\n",
    "    return result[::-1]"
   ]
  },
  {
   "cell_type": "code",
   "execution_count": 23,
   "metadata": {
    "collapsed": true
   },
   "outputs": [],
   "source": [
    "s_1 = \"ABCBDAB\"\n",
    "s_2 = \"BDCABA\""
   ]
  },
  {
   "cell_type": "code",
   "execution_count": 24,
   "metadata": {
    "collapsed": true
   },
   "outputs": [],
   "source": [
    "tables = lcs_length(s_1, s_2)"
   ]
  },
  {
   "cell_type": "code",
   "execution_count": 25,
   "metadata": {},
   "outputs": [
    {
     "data": {
      "text/plain": [
       "[[0, 0, 0, 0, 0, 0, 0],\n",
       " [0, 0, 0, 0, 1, 1, 1],\n",
       " [0, 1, 1, 1, 1, 2, 2],\n",
       " [0, 1, 1, 2, 2, 2, 2],\n",
       " [0, 1, 1, 2, 2, 3, 3],\n",
       " [0, 1, 2, 2, 2, 3, 3],\n",
       " [0, 1, 2, 2, 3, 3, 4],\n",
       " [0, 1, 2, 2, 3, 4, 4]]"
      ]
     },
     "execution_count": 25,
     "metadata": {},
     "output_type": "execute_result"
    }
   ],
   "source": [
    "tables[0]"
   ]
  },
  {
   "cell_type": "code",
   "execution_count": 26,
   "metadata": {},
   "outputs": [
    {
     "data": {
      "text/plain": [
       "[['up', 'up', 'up', 'top-left', 'left', 'top-left'],\n",
       " ['top-left', 'left', 'left', 'up', 'top-left', 'left'],\n",
       " ['up', 'up', 'top-left', 'left', 'up', 'up'],\n",
       " ['top-left', 'up', 'up', 'up', 'top-left', 'left'],\n",
       " ['up', 'top-left', 'up', 'up', 'up', 'up'],\n",
       " ['up', 'up', 'up', 'top-left', 'up', 'top-left'],\n",
       " ['top-left', 'up', 'up', 'up', 'top-left', 'up']]"
      ]
     },
     "execution_count": 26,
     "metadata": {},
     "output_type": "execute_result"
    }
   ],
   "source": [
    "tables[1]"
   ]
  },
  {
   "cell_type": "code",
   "execution_count": 27,
   "metadata": {},
   "outputs": [
    {
     "data": {
      "text/plain": [
       "'BCBA'"
      ]
     },
     "execution_count": 27,
     "metadata": {},
     "output_type": "execute_result"
    }
   ],
   "source": [
    "print_lcs(tables[1], s_1, len(s_1) - 1, len(s_2) - 1)"
   ]
  },
  {
   "cell_type": "markdown",
   "metadata": {},
   "source": [
    "<a href = \"http://www.bioinformatics.org/sms2/sample_dna.html\">DNA Sequence</a>"
   ]
  },
  {
   "cell_type": "code",
   "execution_count": 28,
   "metadata": {
    "collapsed": true
   },
   "outputs": [],
   "source": [
    "a = \"aataaaaataaaaaaaaataaaaaaaaaaaaaaaaaaaaaaaaaaaataaaaaaaaaaaa\"\n",
    "b = \"taaataaaaaaaaaaaaaaaaaaaaaattaaataaataaa\""
   ]
  },
  {
   "cell_type": "code",
   "execution_count": 12,
   "metadata": {},
   "outputs": [
    {
     "data": {
      "text/plain": [
       "'taaataaaaaaaaaaaaaaaaaaaaaataaaaaaaaa'"
      ]
     },
     "execution_count": 12,
     "metadata": {},
     "output_type": "execute_result"
    }
   ],
   "source": [
    "lcs_recursive(a, b, len(a)-1, len(b) - 1)"
   ]
  },
  {
   "cell_type": "code",
   "execution_count": 29,
   "metadata": {},
   "outputs": [
    {
     "data": {
      "text/plain": [
       "'taaataaaaaaaaaaaaaaaaaaaaaaaaaaaataaa'"
      ]
     },
     "execution_count": 29,
     "metadata": {},
     "output_type": "execute_result"
    }
   ],
   "source": [
    "print_lcs(lcs_length(a, b)[1], a, len(a) - 1, len(b) - 1)"
   ]
  },
  {
   "cell_type": "code",
   "execution_count": 14,
   "metadata": {
    "collapsed": true
   },
   "outputs": [],
   "source": [
    "a = \"ABCDGH\"\n",
    "b = \"AEDFHR\""
   ]
  },
  {
   "cell_type": "code",
   "execution_count": 15,
   "metadata": {},
   "outputs": [
    {
     "data": {
      "text/plain": [
       "'ADH'"
      ]
     },
     "execution_count": 15,
     "metadata": {},
     "output_type": "execute_result"
    }
   ],
   "source": [
    "lcs_recursive(a, b, len(a)-1, len(b) - 1)"
   ]
  },
  {
   "cell_type": "code",
   "execution_count": 16,
   "metadata": {},
   "outputs": [
    {
     "data": {
      "text/plain": [
       "'ADH'"
      ]
     },
     "execution_count": 16,
     "metadata": {},
     "output_type": "execute_result"
    }
   ],
   "source": [
    "print_lcs(lcs_length(a, b)[1], a, len(a) - 1, len(b) - 1)"
   ]
  },
  {
   "cell_type": "markdown",
   "metadata": {},
   "source": [
    "### Homework Problem Pg. 936 15.4-1"
   ]
  },
  {
   "cell_type": "code",
   "execution_count": 17,
   "metadata": {
    "collapsed": true
   },
   "outputs": [],
   "source": [
    "x = \"10010101\"\n",
    "y = \"010110110\""
   ]
  },
  {
   "cell_type": "code",
   "execution_count": 18,
   "metadata": {},
   "outputs": [
    {
     "data": {
      "text/plain": [
       "[[0, 0, 0, 0, 0, 0, 0, 0, 0, 0],\n",
       " [0, 0, 1, 1, 1, 1, 1, 1, 1, 1],\n",
       " [0, 1, 1, 2, 2, 2, 2, 2, 2, 2],\n",
       " [0, 1, 1, 2, 2, 2, 3, 3, 3, 3],\n",
       " [0, 1, 2, 2, 3, 3, 3, 4, 4, 4],\n",
       " [0, 1, 2, 3, 3, 3, 4, 4, 4, 5],\n",
       " [0, 1, 2, 3, 4, 4, 4, 5, 5, 5],\n",
       " [0, 1, 2, 3, 4, 4, 5, 5, 5, 6],\n",
       " [0, 1, 2, 3, 4, 5, 5, 6, 6, 6]]"
      ]
     },
     "execution_count": 18,
     "metadata": {},
     "output_type": "execute_result"
    }
   ],
   "source": [
    "lcs_length(x,y)[0]"
   ]
  },
  {
   "cell_type": "code",
   "execution_count": 19,
   "metadata": {},
   "outputs": [
    {
     "name": "stdout",
     "output_type": "stream",
     "text": [
      "['up', 'top-left', 'left', 'top-left', 'top-left', 'left', 'top-left', 'top-left', 'left']\n",
      "['top-left', 'up', 'top-left', 'left', 'left', 'top-left', 'left', 'left', 'top-left']\n",
      "['top-left', 'up', 'top-left', 'up', 'up', 'top-left', 'left', 'left', 'top-left']\n",
      "['up', 'top-left', 'up', 'top-left', 'top-left', 'up', 'top-left', 'top-left', 'left']\n",
      "['top-left', 'up', 'top-left', 'up', 'up', 'top-left', 'up', 'up', 'top-left']\n",
      "['up', 'top-left', 'up', 'top-left', 'top-left', 'up', 'top-left', 'top-left', 'up']\n",
      "['top-left', 'up', 'top-left', 'up', 'up', 'top-left', 'up', 'up', 'top-left']\n",
      "['up', 'top-left', 'up', 'top-left', 'top-left', 'up', 'top-left', 'top-left', 'up']\n"
     ]
    }
   ],
   "source": [
    "for i in range(len(lcs_length(x,y)[1])):\n",
    "    print(lcs_length(x,y)[1][i])"
   ]
  },
  {
   "cell_type": "code",
   "execution_count": 20,
   "metadata": {},
   "outputs": [
    {
     "data": {
      "text/plain": [
       "'100110'"
      ]
     },
     "execution_count": 20,
     "metadata": {},
     "output_type": "execute_result"
    }
   ],
   "source": [
    "print_lcs(lcs_length(x, y)[1], x, len(x) - 1, len(y) - 1)"
   ]
  },
  {
   "cell_type": "markdown",
   "metadata": {},
   "source": [
    "### Testing runtime of Dynamic Programming LCS"
   ]
  },
  {
   "cell_type": "markdown",
   "metadata": {},
   "source": [
    "Thanks <a href = \"https://stackoverflow.com/users/1730261/rushy-panchal\">Rushy Panchal</a> for the code for `random_dna_seq` taken from <a href = \"https://stackoverflow.com/questions/21205836/generating-random-sequences-of-dna\">here</a>"
   ]
  },
  {
   "cell_type": "code",
   "execution_count": 21,
   "metadata": {
    "collapsed": true
   },
   "outputs": [],
   "source": [
    "from random import choice\n",
    "def random_dna_seq(length):\n",
    "    DNA = \"\"\n",
    "    for count in range(length):\n",
    "        DNA += choice(\"CGTA\")\n",
    "    return DNA"
   ]
  },
  {
   "cell_type": "code",
   "execution_count": 22,
   "metadata": {
    "collapsed": true
   },
   "outputs": [],
   "source": [
    "import datetime\n",
    "\n",
    "def time_to_dynamic_lcs_n_random(n):\n",
    "    seq_1 = random_dna_seq(n)\n",
    "    seq_2 = random_dna_seq(n)\n",
    "    before = datetime.datetime.now()\n",
    "    print_lcs(lcs_length(seq_1, seq_2)[1], seq_1, len(seq_1) - 1, len(seq_2) - 1)\n",
    "    after = datetime.datetime.now()\n",
    "    \n",
    "    td = (after - before)\n",
    "    if (td.seconds == 0):\n",
    "        return (after - before).microseconds / (1*10**6)\n",
    "    else:\n",
    "        return (after - before).seconds\n",
    "    \n",
    "def time_to_recursive_lcs_n_random(n):\n",
    "    seq_1 = random_dna_seq(n)\n",
    "    seq_2 = random_dna_seq(n)\n",
    "    before = datetime.datetime.now()\n",
    "    lcs_recursive(seq_1, seq_2, len(seq_1) - 1, len(seq_2) - 1)\n",
    "    after = datetime.datetime.now()\n",
    "    \n",
    "    td = (after - before)\n",
    "    if (td.seconds == 0):\n",
    "        return (after - before).microseconds / (1*10**6)\n",
    "    else:\n",
    "        return (after - before).seconds"
   ]
  },
  {
   "cell_type": "code",
   "execution_count": 46,
   "metadata": {},
   "outputs": [
    {
     "name": "stdout",
     "output_type": "stream",
     "text": [
      "Testing runtime of LCS (Dynamic)...\n",
      "\n",
      "\tInput Size n = 10:\t 0.0005180000 seconds\n",
      "\n",
      "\tInput Size n = 15:\t 0.0004980000 seconds\n",
      "\n",
      "\tInput Size n = 20:\t 0.0009980000 seconds\n",
      "\n",
      "\tInput Size n = 100:\t 0.0094640000 seconds\n",
      "\n",
      "\tInput Size n = 1,000:\t 0.8084940000 seconds\n",
      "\n",
      "\tInput Size n = 10,000:\t 88.0000000000 seconds\n",
      "\n"
     ]
    }
   ],
   "source": [
    "print(\"\"\"Testing runtime of LCS (Dynamic)...\\n\n",
    "\\tInput Size n = 10:\\t %.10f seconds\\n\n",
    "\\tInput Size n = 15:\\t %.10f seconds\\n\n",
    "\\tInput Size n = 20:\\t %.10f seconds\\n\n",
    "\\tInput Size n = 100:\\t %.10f seconds\\n\n",
    "\\tInput Size n = 1,000:\\t %.10f seconds\\n\n",
    "\\tInput Size n = 10,000:\\t %.10f seconds\\n\"\"\" % (time_to_dynamic_lcs_n_random(10), time_to_dynamic_lcs_n_random(15), \n",
    "      time_to_dynamic_lcs_n_random(20), time_to_dynamic_lcs_n_random(100), time_to_dynamic_lcs_n_random(1000), \n",
    "                                                 time_to_dynamic_lcs_n_random(10000)))"
   ]
  },
  {
   "cell_type": "code",
   "execution_count": 50,
   "metadata": {},
   "outputs": [
    {
     "name": "stdout",
     "output_type": "stream",
     "text": [
      "Testing runtime of LCS (Recursive)...\n",
      "\n",
      "\tInput Size n = 10:\t 0.0009980000 seconds\n",
      "\n",
      "\tInput Size n = 15:\t 1.0000000000 seconds\n",
      "\n",
      "\tInput Size n = 20:\t 8.0000000000 seconds\n",
      "\n"
     ]
    }
   ],
   "source": [
    "print(\"\"\"Testing runtime of LCS (Recursive)...\\n\n",
    "\\tInput Size n = 10:\\t %.10f seconds\\n\n",
    "\\tInput Size n = 15:\\t %.10f seconds\\n\n",
    "\\tInput Size n = 20:\\t %.10f seconds\\n\"\"\" % (time_to_recursive_lcs_n_random(10), time_to_recursive_lcs_n_random(15), \n",
    "      time_to_recursive_lcs_n_random(20)))"
   ]
  },
  {
   "cell_type": "code",
   "execution_count": 110,
   "metadata": {
    "collapsed": true
   },
   "outputs": [],
   "source": [
    "def lcs_palindrome(s):\n",
    "    return lcs(s, s[::-1], len(s)-1, len(s) - 1)"
   ]
  },
  {
   "cell_type": "code",
   "execution_count": 111,
   "metadata": {},
   "outputs": [
    {
     "data": {
      "text/plain": [
       "'hannah'"
      ]
     },
     "execution_count": 111,
     "metadata": {},
     "output_type": "execute_result"
    }
   ],
   "source": [
    "lcs_palindrome(\"hannah\")"
   ]
  },
  {
   "cell_type": "code",
   "execution_count": 112,
   "metadata": {},
   "outputs": [
    {
     "data": {
      "text/plain": [
       "'carac'"
      ]
     },
     "execution_count": 112,
     "metadata": {},
     "output_type": "execute_result"
    }
   ],
   "source": [
    "lcs_palindrome(\"character\")"
   ]
  }
 ],
 "metadata": {
  "kernelspec": {
   "display_name": "Python 3",
   "language": "python",
   "name": "python3"
  },
  "language_info": {
   "codemirror_mode": {
    "name": "ipython",
    "version": 3
   },
   "file_extension": ".py",
   "mimetype": "text/x-python",
   "name": "python",
   "nbconvert_exporter": "python",
   "pygments_lexer": "ipython3",
   "version": "3.6.2"
  }
 },
 "nbformat": 4,
 "nbformat_minor": 2
}
