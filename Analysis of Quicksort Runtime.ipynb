{
 "cells": [
  {
   "cell_type": "markdown",
   "metadata": {},
   "source": [
    "### Keith Carlson\n",
    "### March 6, 2019"
   ]
  },
  {
   "cell_type": "markdown",
   "metadata": {},
   "source": [
    "Implementing quicksort and testing is runtime for different sized inputs. Psuedo code taken from:\n",
    "\n",
    "Cormen, Thomas H., et al. Introduction to Algorithms. 3rd ed., MIT Press, 2009. (Pg. 171)"
   ]
  },
  {
   "cell_type": "code",
   "execution_count": 1,
   "metadata": {
    "collapsed": true
   },
   "outputs": [],
   "source": [
    "def quicksort(A, p, r):\n",
    "    if(p < r):\n",
    "        q = partition(A, p, r)\n",
    "        quicksort(A, p, q - 1)\n",
    "        quicksort(A, q + 1, r)"
   ]
  },
  {
   "cell_type": "code",
   "execution_count": 2,
   "metadata": {
    "collapsed": true
   },
   "outputs": [],
   "source": [
    "def partition(A, p, r):\n",
    "    x = A[r]\n",
    "    i = p - 1\n",
    "  \n",
    "    for j in range(p, r, 1):\n",
    "        if(A[j] <= x):\n",
    "            i = i + 1\n",
    "            temp = A[i]\n",
    "            A[i] = A[j]\n",
    "            A[j] = temp\n",
    "    \n",
    "    temp = A[i + 1]\n",
    "    A[i + 1] = A[r]\n",
    "    A[r] = temp\n",
    "\n",
    "    return i + 1"
   ]
  },
  {
   "cell_type": "markdown",
   "metadata": {},
   "source": [
    "<a href = \"https://stackoverflow.com/questions/16655089/python-random-numbers-into-a-list\">Python: Random numbers into a list</a>"
   ]
  },
  {
   "cell_type": "code",
   "execution_count": 3,
   "metadata": {},
   "outputs": [
    {
     "name": "stdout",
     "output_type": "stream",
     "text": [
      "Before sorting:\n",
      "[29, 19, 59, 73, 77, 22, 100, 31, 71, 5, 45, 20, 99, 62, 89, 6, 42, 63, 13, 3, 65, 96, 69, 52, 51, 2, 32, 26, 49, 58, 91, 30, 46, 86, 60, 53, 66, 33, 1, 80, 4, 34, 8, 50, 7, 16, 79, 40, 74, 44, 11, 81, 41, 84, 82, 14, 43, 92, 0, 39, 64, 54, 83, 95, 38, 56, 24, 15, 61, 12, 21, 57, 78, 23, 72, 18, 67, 76, 85, 9, 37, 10, 55, 98, 25, 17, 94, 47, 36, 75, 68, 97, 87, 88, 70, 48, 28, 35, 90, 27, 93]\n",
      "\n",
      "After quicksorting:\n",
      "[0, 1, 2, 3, 4, 5, 6, 7, 8, 9, 10, 11, 12, 13, 14, 15, 16, 17, 18, 19, 20, 21, 22, 23, 24, 25, 26, 27, 28, 29, 30, 31, 32, 33, 34, 35, 36, 37, 38, 39, 40, 41, 42, 43, 44, 45, 46, 47, 48, 49, 50, 51, 52, 53, 54, 55, 56, 57, 58, 59, 60, 61, 62, 63, 64, 65, 66, 67, 68, 69, 70, 71, 72, 73, 74, 75, 76, 77, 78, 79, 80, 81, 82, 83, 84, 85, 86, 87, 88, 89, 90, 91, 92, 93, 94, 95, 96, 97, 98, 99, 100]\n"
     ]
    }
   ],
   "source": [
    "import random\n",
    "\n",
    "randoms = random.sample(range(101), 101)\n",
    "\n",
    "print(\"Before sorting:\\n%s\\n\" % randoms)\n",
    "\n",
    "quicksort(randoms, 0, len(randoms) - 1)\n",
    "\n",
    "print(\"After quicksorting:\\n%s\" % randoms)"
   ]
  },
  {
   "cell_type": "code",
   "execution_count": 4,
   "metadata": {
    "collapsed": true
   },
   "outputs": [],
   "source": [
    "import datetime\n",
    "\n",
    "def time_to_quicksort_n_random(n):\n",
    "    randoms = random.sample(range(n), n)\n",
    "    before = datetime.datetime.now()\n",
    "    quicksort(randoms, 0, len(randoms) - 1)\n",
    "    after = datetime.datetime.now()\n",
    "    \n",
    "    return (after - before).microseconds / (1*10**6)"
   ]
  },
  {
   "cell_type": "code",
   "execution_count": 5,
   "metadata": {},
   "outputs": [
    {
     "name": "stdout",
     "output_type": "stream",
     "text": [
      "Testing runtime of Quicksort...\n",
      "\n",
      "\tInput Size n = 100:\t 0.0000000000 seconds\n",
      "\n",
      "\tInput Size n = 1,000:\t 0.0019990000 seconds\n",
      "\n",
      "\tInput Size n = 10,000:\t 0.0199820000 seconds\n",
      "\n",
      "\tInput Size n = 100,000:\t 0.4773650000 seconds\n",
      "\n"
     ]
    }
   ],
   "source": [
    "print(\"\"\"Testing runtime of Quicksort...\\n\n",
    "\\tInput Size n = 100:\\t %.10f seconds\\n\n",
    "\\tInput Size n = 1,000:\\t %.10f seconds\\n\n",
    "\\tInput Size n = 10,000:\\t %.10f seconds\\n\n",
    "\\tInput Size n = 100,000:\\t %.10f seconds\\n\"\"\" % (time_to_quicksort_n_random(100), time_to_quicksort_n_random(1000), \n",
    "      time_to_quicksort_n_random(10000), time_to_quicksort_n_random(100000)))"
   ]
  }
 ],
 "metadata": {
  "kernelspec": {
   "display_name": "Python 3",
   "language": "python",
   "name": "python3"
  },
  "language_info": {
   "codemirror_mode": {
    "name": "ipython",
    "version": 3
   },
   "file_extension": ".py",
   "mimetype": "text/x-python",
   "name": "python",
   "nbconvert_exporter": "python",
   "pygments_lexer": "ipython3",
   "version": "3.6.2"
  }
 },
 "nbformat": 4,
 "nbformat_minor": 2
}
